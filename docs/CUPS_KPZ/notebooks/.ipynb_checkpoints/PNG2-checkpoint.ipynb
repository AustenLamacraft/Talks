{
 "cells": [
  {
   "cell_type": "code",
   "execution_count": 4,
   "metadata": {
    "collapsed": false
   },
   "outputs": [],
   "source": [
    "# Simulation of the PNG model\n",
    "\n",
    "import matplotlib\n",
    "matplotlib.use(\"Agg\")\n",
    "\n",
    "from pylab import *\n",
    "\n",
    "import matplotlib.animation as animation\n",
    "\n",
    "\n",
    "# Set up to use LaTeX\n",
    "from matplotlib import rc\n",
    "rc('text', usetex=True)\n",
    "rc('font',**{'family':'serif','serif':['Computer Modern Roman']})\n",
    "\n",
    "\n",
    "# Length of the system\n",
    "\n",
    "L = 2000\n",
    "\n",
    "# Make a random walk bridge with N steps up and N down\n",
    "N = 50\n",
    "#state = cumsum(randint(-2,high = 3, size = L))\n",
    "#state1, state2 = state, state\n",
    "\n",
    "state1, state2 = zeros(L), zeros(L)\n",
    "sites = arange(L)\n",
    "\n",
    "\n",
    "T = 2000\n",
    "t = 0\n",
    "NucRate = 10\n",
    "\n",
    "state_history1 = [state1]\n",
    "state_history2 = [state2]\n",
    "\n",
    "while t < T:\n",
    "\n",
    "    new_state1, new_state2 = list(state1), list(state2)\n",
    "    # Can't write equality here because it would be the same list!\n",
    "    \n",
    "    for site, val in enumerate(delete(state1,L-1)):\n",
    "        if state1[site+1] > val or state1[site-1] > val: \n",
    "            new_state1[site] = max(state1[site+1],state1[site-1])\n",
    "\n",
    "    for site, val in enumerate(delete(state2,L-1)):\n",
    "        if state2[site+1] > val or state2[site-1] > val: \n",
    "            new_state2[site] = max(state2[site+1],state2[site-1])\n",
    "    \n",
    "    # Introduce nucleation events \n",
    "        \n",
    "    nuclei = randint(L, size = NucRate)    \n",
    "    for nuc_site in nuclei:\n",
    "        new_state1[nuc_site] += 1\n",
    "        new_state2[nuc_site] += 1\n",
    "    \n",
    "    # Introduce the difference\n",
    "    \n",
    "    if t == T / 10:\n",
    "        new_state1[int(L/2)] += 10\n",
    "        new_state2[int(L/2)] -= 10\n",
    "        \n",
    "    \n",
    "    state1, state2 = new_state1, new_state2\n",
    "    state_history1.append(new_state1)\n",
    "    state_history2.append(new_state2)\n",
    "\n",
    "    t += 1.\n",
    "\n",
    "fig = figure()\n",
    "ax = axes(ylim=(0,40), xlim=(0, L))\n",
    "lines = [ax.step([], [], where  = 'post')[0], ax.step([], [], where  = 'post')[0]]\n",
    "\n",
    "def init():\n",
    "    ax.set_ylim(0,200)\n",
    "    for line in lines:\n",
    "        line.set_data([],[])\n",
    "    return lines\n",
    "\n",
    "def animate(i):\n",
    "    anim_state1 = state_history1[i]\n",
    "    anim_state2 = state_history2[i]\n",
    "    lines[0].set_data(sites,anim_state1)\n",
    "    lines[1].set_data(sites,anim_state2)\n",
    "    ymin, ymax = ax.get_ylim()\n",
    "    if max(anim_state1) > ymax:\n",
    "        ax.set_ylim(ymin+30,ymax+30)\n",
    "        ax.figure.canvas.draw()\n",
    "    return lines\n",
    "\n",
    "anim = animation.FuncAnimation(fig, animate, init_func=init, frames=T, interval = 10, blit=True)\n",
    "\n",
    "#anim.save('lines.gif', writer='imagemagick_file')\n",
    "\n",
    "show()"
   ]
  },
  {
   "cell_type": "code",
   "execution_count": null,
   "metadata": {
    "collapsed": true
   },
   "outputs": [],
   "source": [
    "from IPython.display import HTML\n",
    "HTML(anim.to_html5_video())"
   ]
  },
  {
   "cell_type": "code",
   "execution_count": null,
   "metadata": {
    "collapsed": true
   },
   "outputs": [],
   "source": []
  }
 ],
 "metadata": {
  "kernelspec": {
   "display_name": "Python 3",
   "language": "python",
   "name": "python3"
  },
  "language_info": {
   "codemirror_mode": {
    "name": "ipython",
    "version": 3
   },
   "file_extension": ".py",
   "mimetype": "text/x-python",
   "name": "python",
   "nbconvert_exporter": "python",
   "pygments_lexer": "ipython3",
   "version": "3.5.1"
  },
  "latex_envs": {
   "bibliofile": "biblio.bib",
   "cite_by": "apalike",
   "current_citInitial": 1,
   "eqLabelWithNumbers": true,
   "eqNumInitial": 0
  },
  "nav_menu": {},
  "toc": {
   "navigate_menu": true,
   "number_sections": true,
   "sideBar": true,
   "threshold": 6,
   "toc_cell": false,
   "toc_section_display": "block",
   "toc_window_display": false
  }
 },
 "nbformat": 4,
 "nbformat_minor": 0
}
