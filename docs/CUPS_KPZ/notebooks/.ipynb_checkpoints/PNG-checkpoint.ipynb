{
 "cells": [
  {
   "cell_type": "markdown",
   "metadata": {},
   "source": [
    "Simulation of PNG"
   ]
  },
  {
   "cell_type": "code",
   "execution_count": 5,
   "metadata": {
    "collapsed": false
   },
   "outputs": [
    {
     "ename": "NameError",
     "evalue": "name 'in1d' is not defined",
     "output_type": "error",
     "traceback": [
      "\u001b[0;31m---------------------------------------------------------------------------\u001b[0m",
      "\u001b[0;31mNameError\u001b[0m                                 Traceback (most recent call last)",
      "\u001b[0;32m<ipython-input-5-3e1e8423e651>\u001b[0m in \u001b[0;36m<module>\u001b[0;34m()\u001b[0m\n\u001b[1;32m     39\u001b[0m     \u001b[0;32mreturn\u001b[0m \u001b[0msteps\u001b[0m\u001b[0;34m[\u001b[0m\u001b[0msteps\u001b[0m\u001b[0;34m[\u001b[0m\u001b[0;34m:\u001b[0m\u001b[0;34m,\u001b[0m\u001b[0;36m0\u001b[0m\u001b[0;34m]\u001b[0m\u001b[0;34m.\u001b[0m\u001b[0margsort\u001b[0m\u001b[0;34m(\u001b[0m\u001b[0;34m)\u001b[0m\u001b[0;34m]\u001b[0m\u001b[0;34m\u001b[0m\u001b[0m\n\u001b[1;32m     40\u001b[0m \u001b[0;34m\u001b[0m\u001b[0m\n\u001b[0;32m---> 41\u001b[0;31m \u001b[0mup\u001b[0m\u001b[0;34m,\u001b[0m \u001b[0mdown\u001b[0m \u001b[0;34m=\u001b[0m \u001b[0mannihilate\u001b[0m\u001b[0;34m(\u001b[0m\u001b[0mup\u001b[0m\u001b[0;34m,\u001b[0m \u001b[0mdown\u001b[0m\u001b[0;34m)\u001b[0m\u001b[0;34m\u001b[0m\u001b[0m\n\u001b[0m\u001b[1;32m     42\u001b[0m \u001b[0;34m\u001b[0m\u001b[0m\n\u001b[1;32m     43\u001b[0m \u001b[0mcurrent_steps\u001b[0m \u001b[0;34m=\u001b[0m \u001b[0msort_steps\u001b[0m\u001b[0;34m(\u001b[0m\u001b[0mup\u001b[0m\u001b[0;34m,\u001b[0m \u001b[0mdown\u001b[0m\u001b[0;34m)\u001b[0m\u001b[0;34m\u001b[0m\u001b[0m\n",
      "\u001b[0;32m<ipython-input-5-3e1e8423e651>\u001b[0m in \u001b[0;36mannihilate\u001b[0;34m(up, down)\u001b[0m\n\u001b[1;32m     28\u001b[0m \u001b[0;34m\u001b[0m\u001b[0m\n\u001b[1;32m     29\u001b[0m     \u001b[0;31m# At the moment we have a problem that a single step will annihilate a double step\u001b[0m\u001b[0;34m\u001b[0m\u001b[0;34m\u001b[0m\u001b[0m\n\u001b[0;32m---> 30\u001b[0;31m     \u001b[0mnewup\u001b[0m \u001b[0;34m=\u001b[0m \u001b[0mnp\u001b[0m\u001b[0;34m.\u001b[0m\u001b[0mdelete\u001b[0m\u001b[0;34m(\u001b[0m\u001b[0mup\u001b[0m\u001b[0;34m,\u001b[0m \u001b[0mnp\u001b[0m\u001b[0;34m.\u001b[0m\u001b[0mnonzero\u001b[0m\u001b[0;34m(\u001b[0m\u001b[0min1d\u001b[0m\u001b[0;34m(\u001b[0m\u001b[0mup\u001b[0m\u001b[0;34m,\u001b[0m\u001b[0mdown\u001b[0m\u001b[0;34m)\u001b[0m\u001b[0;34m)\u001b[0m\u001b[0;34m)\u001b[0m\u001b[0;34m\u001b[0m\u001b[0m\n\u001b[0m\u001b[1;32m     31\u001b[0m     \u001b[0mnewdown\u001b[0m \u001b[0;34m=\u001b[0m \u001b[0mnp\u001b[0m\u001b[0;34m.\u001b[0m\u001b[0mdelete\u001b[0m\u001b[0;34m(\u001b[0m\u001b[0mdown\u001b[0m\u001b[0;34m,\u001b[0m \u001b[0mnp\u001b[0m\u001b[0;34m.\u001b[0m\u001b[0mnonzero\u001b[0m\u001b[0;34m(\u001b[0m\u001b[0min1d\u001b[0m\u001b[0;34m(\u001b[0m\u001b[0mdown\u001b[0m\u001b[0;34m,\u001b[0m\u001b[0mup\u001b[0m\u001b[0;34m)\u001b[0m\u001b[0;34m)\u001b[0m\u001b[0;34m)\u001b[0m\u001b[0;34m\u001b[0m\u001b[0m\n\u001b[1;32m     32\u001b[0m \u001b[0;34m\u001b[0m\u001b[0m\n",
      "\u001b[0;31mNameError\u001b[0m: name 'in1d' is not defined"
     ]
    }
   ],
   "source": [
    "# In each time step we move existing steps in either direction, and check for annihilation. \n",
    "\n",
    "%matplotlib inline\n",
    "from matplotlib import pyplot as plt\n",
    "from matplotlib import animation, rc\n",
    "\n",
    "import numpy as np\n",
    "import matplotlib.animation as animation\n",
    "\n",
    "# Set up to use LaTeX\n",
    "rc('text', usetex=True)\n",
    "rc('font',**{'family':'serif','serif':['Computer Modern Roman']})\n",
    "\n",
    "# Length of the system\n",
    "\n",
    "L = 1000\n",
    "\n",
    "# Make a random walk bridge with N steps up and N down\n",
    "N = 50\n",
    "#up = sort(randint(L, size = N))\n",
    "#down = sort(randint(L, size = N))\n",
    "\n",
    "up, down = [], []\n",
    "\n",
    "# Eliminate coinciding up-down steps\n",
    "\n",
    "def annihilate(up, down):\n",
    "\n",
    "    # At the moment we have a problem that a single step will annihilate a double step\n",
    "    newup = np.delete(up, np.nonzero(np.in1d(up,down)))\n",
    "    newdown = np.delete(down, np.nonzero(np.in1d(down,up)))\n",
    "\n",
    "    return newup, newdown\n",
    "\n",
    "def sort_steps(up_steps, down_steps):\n",
    "    up_label = np.transpose([up_steps,ones_like(up_steps)])\n",
    "    down_label = np.transpose([down_steps,-ones_like(down_steps)])\n",
    "    steps = np.concatenate((up_label,down_label))\n",
    "    return steps[steps[:,0].argsort()]\n",
    "\n",
    "up, down = annihilate(up, down)\n",
    "\n",
    "current_steps = sort_steps(up, down)\n",
    "\n",
    "\n",
    "T = 1000\n",
    "t = 0\n",
    "NucRate = 2\n",
    "\n",
    "step_values = [current_steps]\n",
    "\n",
    "\n",
    "while t < T:\n",
    "\n",
    "    up -= np.ones_like(up)\n",
    "\n",
    "    up, down = annihilate(up, down)\n",
    "\n",
    "    down += ones_like(down)\n",
    "\n",
    "    up, down = annihilate(up, down)\n",
    "    \n",
    "\n",
    "    # Then introduce nucleation events\n",
    "    \n",
    "    nucleus = np.randint(L, size = NucRate)\n",
    "    \n",
    "    up = np.append(up,nucleus)\n",
    "    down = np.append(down,nucleus+1)\n",
    "    \n",
    "    up, down = annihilate(up, down)\n",
    "\n",
    "    # In each time step we move existing steps in either direction, and check for annihilation. \n",
    "\n",
    "    \n",
    "\n",
    "        \n",
    "    current_steps = sort_steps(up, down)    \n",
    "\n",
    "    step_values.append(current_steps)\n",
    "\n",
    "    t += 1.\n",
    "\n",
    "\n",
    "\n",
    "\n",
    "fig = plt.figure()\n",
    "ax = plt.axes(ylim=(-20,100), xlim=(0, L))\n",
    "line, = plt.ax.step([], [], where  = 'post')\n",
    "\n",
    "def init():\n",
    "    line.set_data([],[])\n",
    "    return line\n",
    "\n",
    "def animate(i):\n",
    "    current_steps = step_values[i]\n",
    "    line.set_data(current_steps[:,0],cumsum(current_steps[:,1]))\n",
    "    return line,\n",
    "\n",
    "\n",
    "anim = animation.FuncAnimation(fig, animate, frames=T, interval=50, blit=True)\n",
    "show()\n",
    "\n"
   ]
  },
  {
   "cell_type": "code",
   "execution_count": null,
   "metadata": {
    "collapsed": true
   },
   "outputs": [],
   "source": []
  }
 ],
 "metadata": {
  "kernelspec": {
   "display_name": "Python 3",
   "language": "python",
   "name": "python3"
  },
  "language_info": {
   "codemirror_mode": {
    "name": "ipython",
    "version": 3
   },
   "file_extension": ".py",
   "mimetype": "text/x-python",
   "name": "python",
   "nbconvert_exporter": "python",
   "pygments_lexer": "ipython3",
   "version": "3.5.1"
  },
  "latex_envs": {
   "bibliofile": "biblio.bib",
   "cite_by": "apalike",
   "current_citInitial": 1,
   "eqLabelWithNumbers": true,
   "eqNumInitial": 0
  },
  "nav_menu": {},
  "toc": {
   "navigate_menu": true,
   "number_sections": true,
   "sideBar": true,
   "threshold": 6,
   "toc_cell": false,
   "toc_section_display": "block",
   "toc_window_display": false
  }
 },
 "nbformat": 4,
 "nbformat_minor": 0
}
